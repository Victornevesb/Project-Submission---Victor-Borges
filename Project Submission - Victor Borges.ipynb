{
 "cells": [
  {
   "cell_type": "markdown",
   "id": "71c5ea6d-4a40-4774-9cf3-165ab610f1fb",
   "metadata": {},
   "source": [
    "# Project Submission - Concordia Coding Bootcamp- International Football"
   ]
  },
  {
   "cell_type": "code",
   "execution_count": 1,
   "id": "86bffd7b-02d4-42cf-bc72-9e22a474d263",
   "metadata": {},
   "outputs": [],
   "source": [
    "import pandas as pd"
   ]
  },
  {
   "cell_type": "code",
   "execution_count": 2,
   "id": "8564fbfa-7ea5-4f03-b30d-8cb596419102",
   "metadata": {},
   "outputs": [
    {
     "data": {
      "text/html": [
       "<div>\n",
       "<style scoped>\n",
       "    .dataframe tbody tr th:only-of-type {\n",
       "        vertical-align: middle;\n",
       "    }\n",
       "\n",
       "    .dataframe tbody tr th {\n",
       "        vertical-align: top;\n",
       "    }\n",
       "\n",
       "    .dataframe thead th {\n",
       "        text-align: right;\n",
       "    }\n",
       "</style>\n",
       "<table border=\"1\" class=\"dataframe\">\n",
       "  <thead>\n",
       "    <tr style=\"text-align: right;\">\n",
       "      <th></th>\n",
       "      <th>date</th>\n",
       "      <th>home_team</th>\n",
       "      <th>away_team</th>\n",
       "      <th>home_score</th>\n",
       "      <th>away_score</th>\n",
       "      <th>tournament</th>\n",
       "      <th>city</th>\n",
       "      <th>country</th>\n",
       "      <th>neutral</th>\n",
       "    </tr>\n",
       "  </thead>\n",
       "  <tbody>\n",
       "    <tr>\n",
       "      <th>0</th>\n",
       "      <td>1872-11-30</td>\n",
       "      <td>Scotland</td>\n",
       "      <td>England</td>\n",
       "      <td>0</td>\n",
       "      <td>0</td>\n",
       "      <td>Friendly</td>\n",
       "      <td>Glasgow</td>\n",
       "      <td>Scotland</td>\n",
       "      <td>False</td>\n",
       "    </tr>\n",
       "    <tr>\n",
       "      <th>1</th>\n",
       "      <td>1873-03-08</td>\n",
       "      <td>England</td>\n",
       "      <td>Scotland</td>\n",
       "      <td>4</td>\n",
       "      <td>2</td>\n",
       "      <td>Friendly</td>\n",
       "      <td>London</td>\n",
       "      <td>England</td>\n",
       "      <td>False</td>\n",
       "    </tr>\n",
       "    <tr>\n",
       "      <th>2</th>\n",
       "      <td>1874-03-07</td>\n",
       "      <td>Scotland</td>\n",
       "      <td>England</td>\n",
       "      <td>2</td>\n",
       "      <td>1</td>\n",
       "      <td>Friendly</td>\n",
       "      <td>Glasgow</td>\n",
       "      <td>Scotland</td>\n",
       "      <td>False</td>\n",
       "    </tr>\n",
       "    <tr>\n",
       "      <th>3</th>\n",
       "      <td>1875-03-06</td>\n",
       "      <td>England</td>\n",
       "      <td>Scotland</td>\n",
       "      <td>2</td>\n",
       "      <td>2</td>\n",
       "      <td>Friendly</td>\n",
       "      <td>London</td>\n",
       "      <td>England</td>\n",
       "      <td>False</td>\n",
       "    </tr>\n",
       "    <tr>\n",
       "      <th>4</th>\n",
       "      <td>1876-03-04</td>\n",
       "      <td>Scotland</td>\n",
       "      <td>England</td>\n",
       "      <td>3</td>\n",
       "      <td>0</td>\n",
       "      <td>Friendly</td>\n",
       "      <td>Glasgow</td>\n",
       "      <td>Scotland</td>\n",
       "      <td>False</td>\n",
       "    </tr>\n",
       "    <tr>\n",
       "      <th>...</th>\n",
       "      <td>...</td>\n",
       "      <td>...</td>\n",
       "      <td>...</td>\n",
       "      <td>...</td>\n",
       "      <td>...</td>\n",
       "      <td>...</td>\n",
       "      <td>...</td>\n",
       "      <td>...</td>\n",
       "      <td>...</td>\n",
       "    </tr>\n",
       "    <tr>\n",
       "      <th>45310</th>\n",
       "      <td>2023-11-21</td>\n",
       "      <td>Wales</td>\n",
       "      <td>Turkey</td>\n",
       "      <td>1</td>\n",
       "      <td>1</td>\n",
       "      <td>UEFA Euro qualification</td>\n",
       "      <td>Cardiff</td>\n",
       "      <td>Wales</td>\n",
       "      <td>False</td>\n",
       "    </tr>\n",
       "    <tr>\n",
       "      <th>45311</th>\n",
       "      <td>2023-11-21</td>\n",
       "      <td>Croatia</td>\n",
       "      <td>Armenia</td>\n",
       "      <td>1</td>\n",
       "      <td>0</td>\n",
       "      <td>UEFA Euro qualification</td>\n",
       "      <td>Zagreb</td>\n",
       "      <td>Croatia</td>\n",
       "      <td>False</td>\n",
       "    </tr>\n",
       "    <tr>\n",
       "      <th>45312</th>\n",
       "      <td>2023-11-21</td>\n",
       "      <td>Andorra</td>\n",
       "      <td>Israel</td>\n",
       "      <td>0</td>\n",
       "      <td>2</td>\n",
       "      <td>UEFA Euro qualification</td>\n",
       "      <td>Andorra la Vella</td>\n",
       "      <td>Andorra</td>\n",
       "      <td>False</td>\n",
       "    </tr>\n",
       "    <tr>\n",
       "      <th>45313</th>\n",
       "      <td>2023-11-21</td>\n",
       "      <td>Kosovo</td>\n",
       "      <td>Belarus</td>\n",
       "      <td>0</td>\n",
       "      <td>1</td>\n",
       "      <td>UEFA Euro qualification</td>\n",
       "      <td>Pristina</td>\n",
       "      <td>Kosovo</td>\n",
       "      <td>False</td>\n",
       "    </tr>\n",
       "    <tr>\n",
       "      <th>45314</th>\n",
       "      <td>2023-11-21</td>\n",
       "      <td>Romania</td>\n",
       "      <td>Switzerland</td>\n",
       "      <td>1</td>\n",
       "      <td>0</td>\n",
       "      <td>UEFA Euro qualification</td>\n",
       "      <td>Bucharest</td>\n",
       "      <td>Romania</td>\n",
       "      <td>False</td>\n",
       "    </tr>\n",
       "  </tbody>\n",
       "</table>\n",
       "<p>45315 rows × 9 columns</p>\n",
       "</div>"
      ],
      "text/plain": [
       "             date home_team    away_team  home_score  away_score  \\\n",
       "0      1872-11-30  Scotland      England           0           0   \n",
       "1      1873-03-08   England     Scotland           4           2   \n",
       "2      1874-03-07  Scotland      England           2           1   \n",
       "3      1875-03-06   England     Scotland           2           2   \n",
       "4      1876-03-04  Scotland      England           3           0   \n",
       "...           ...       ...          ...         ...         ...   \n",
       "45310  2023-11-21     Wales       Turkey           1           1   \n",
       "45311  2023-11-21   Croatia      Armenia           1           0   \n",
       "45312  2023-11-21   Andorra       Israel           0           2   \n",
       "45313  2023-11-21    Kosovo      Belarus           0           1   \n",
       "45314  2023-11-21   Romania  Switzerland           1           0   \n",
       "\n",
       "                    tournament              city   country  neutral  \n",
       "0                     Friendly           Glasgow  Scotland    False  \n",
       "1                     Friendly            London   England    False  \n",
       "2                     Friendly           Glasgow  Scotland    False  \n",
       "3                     Friendly            London   England    False  \n",
       "4                     Friendly           Glasgow  Scotland    False  \n",
       "...                        ...               ...       ...      ...  \n",
       "45310  UEFA Euro qualification           Cardiff     Wales    False  \n",
       "45311  UEFA Euro qualification            Zagreb   Croatia    False  \n",
       "45312  UEFA Euro qualification  Andorra la Vella   Andorra    False  \n",
       "45313  UEFA Euro qualification          Pristina    Kosovo    False  \n",
       "45314  UEFA Euro qualification         Bucharest   Romania    False  \n",
       "\n",
       "[45315 rows x 9 columns]"
      ]
     },
     "execution_count": 2,
     "metadata": {},
     "output_type": "execute_result"
    }
   ],
   "source": [
    "df = pd.read_csv(r'C:\\Users\\Victor\\Desktop\\Coding\\results.csv')\n",
    "df"
   ]
  },
  {
   "cell_type": "markdown",
   "id": "f96d65a3-73eb-407a-89cf-45bde6e6a675",
   "metadata": {},
   "source": [
    "# Data Analysis"
   ]
  },
  {
   "cell_type": "code",
   "execution_count": 3,
   "id": "8d543792-4aeb-4c43-8d62-0e78b1559597",
   "metadata": {},
   "outputs": [
    {
     "name": "stdout",
     "output_type": "stream",
     "text": [
      "<class 'pandas.core.frame.DataFrame'>\n",
      "RangeIndex: 45315 entries, 0 to 45314\n",
      "Data columns (total 9 columns):\n",
      " #   Column      Non-Null Count  Dtype \n",
      "---  ------      --------------  ----- \n",
      " 0   date        45315 non-null  object\n",
      " 1   home_team   45315 non-null  object\n",
      " 2   away_team   45315 non-null  object\n",
      " 3   home_score  45315 non-null  int64 \n",
      " 4   away_score  45315 non-null  int64 \n",
      " 5   tournament  45315 non-null  object\n",
      " 6   city        45315 non-null  object\n",
      " 7   country     45315 non-null  object\n",
      " 8   neutral     45315 non-null  bool  \n",
      "dtypes: bool(1), int64(2), object(6)\n",
      "memory usage: 2.8+ MB\n"
     ]
    }
   ],
   "source": [
    "df.info()"
   ]
  },
  {
   "cell_type": "code",
   "execution_count": 4,
   "id": "135b1bc6-398d-47ba-9f5c-8e42703d005e",
   "metadata": {},
   "outputs": [
    {
     "name": "stdout",
     "output_type": "stream",
     "text": [
      "Average number of goals for the home team: 1.7393136930376256\n"
     ]
    }
   ],
   "source": [
    "# Q1: What is the average number of goals for the home team?\n",
    "average_home_goals = df['home_score'].mean()\n",
    "print(\"Average number of goals for the home team:\", average_home_goals)"
   ]
  },
  {
   "cell_type": "code",
   "execution_count": 5,
   "id": "d1e561a3-3b40-4675-b7e3-8b2c54dbc54e",
   "metadata": {},
   "outputs": [
    {
     "name": "stdout",
     "output_type": "stream",
     "text": [
      "Average number of goals for the away team: 1.1782412004854905\n"
     ]
    }
   ],
   "source": [
    "# Q2: What is the average number of goals for the away team?\n",
    "average_away_goals = df['away_score'].mean()\n",
    "print(\"Average number of goals for the away team:\", average_away_goals)"
   ]
  },
  {
   "cell_type": "code",
   "execution_count": 6,
   "id": "5a0869c9-7022-4e70-bbbc-1b2061f32ddc",
   "metadata": {},
   "outputs": [
    {
     "name": "stdout",
     "output_type": "stream",
     "text": [
      "Country with the highest overall home score: United States\n",
      "Highest overall home score: 2056\n"
     ]
    }
   ],
   "source": [
    "# Q3: What is the country with the highest overall home score?\n",
    "home_scores_by_country = df.groupby('country')['home_score'].sum()\n",
    "country_with_highest_home_score = home_scores_by_country.idxmax()\n",
    "highest_home_score = home_scores_by_country.max()\n",
    "print(\"Country with the highest overall home score:\", country_with_highest_home_score)\n",
    "print(\"Highest overall home score:\", highest_home_score)"
   ]
  },
  {
   "cell_type": "code",
   "execution_count": 7,
   "id": "603ab0a9-d673-4c14-bd35-6963415a3726",
   "metadata": {},
   "outputs": [
    {
     "name": "stdout",
     "output_type": "stream",
     "text": [
      "Top 3 types of tournaments:\n",
      "tournament\n",
      "Friendly                        17773\n",
      "FIFA World Cup qualification     8016\n",
      "UEFA Euro qualification          2815\n",
      "Name: count, dtype: int64\n"
     ]
    }
   ],
   "source": [
    "# Q4: What are the top 3 type of tournaments?\n",
    "tournament_counts = df['tournament'].value_counts()\n",
    "top_3_tournaments = tournament_counts.head(3)\n",
    "print(\"Top 3 types of tournaments:\")\n",
    "print(top_3_tournaments)"
   ]
  },
  {
   "cell_type": "code",
   "execution_count": 8,
   "id": "22c021ea-9bbf-4453-a58f-db5dcc716e2f",
   "metadata": {},
   "outputs": [
    {
     "name": "stdout",
     "output_type": "stream",
     "text": [
      "             date  home_team      away_team  home_score  away_score  \\\n",
      "1311   1930-07-13    Belgium  United States           0           3   \n",
      "1312   1930-07-13     France         Mexico           4           1   \n",
      "1313   1930-07-14     Brazil     Yugoslavia           1           2   \n",
      "1314   1930-07-14       Peru        Romania           1           3   \n",
      "1315   1930-07-15  Argentina         France           1           0   \n",
      "...           ...        ...            ...         ...         ...   \n",
      "44349  2022-12-10    England         France           1           2   \n",
      "44351  2022-12-13  Argentina        Croatia           3           0   \n",
      "44352  2022-12-14     France        Morocco           2           0   \n",
      "44356  2022-12-17    Croatia        Morocco           2           1   \n",
      "44358  2022-12-18  Argentina         France           3           3   \n",
      "\n",
      "           tournament        city  country  neutral  \n",
      "1311   FIFA World Cup  Montevideo  Uruguay     True  \n",
      "1312   FIFA World Cup  Montevideo  Uruguay     True  \n",
      "1313   FIFA World Cup  Montevideo  Uruguay     True  \n",
      "1314   FIFA World Cup  Montevideo  Uruguay     True  \n",
      "1315   FIFA World Cup  Montevideo  Uruguay     True  \n",
      "...               ...         ...      ...      ...  \n",
      "44349  FIFA World Cup     Al Khor    Qatar     True  \n",
      "44351  FIFA World Cup      Lusail    Qatar     True  \n",
      "44352  FIFA World Cup     Al Khor    Qatar     True  \n",
      "44356  FIFA World Cup   Al Rayyan    Qatar     True  \n",
      "44358  FIFA World Cup      Lusail    Qatar     True  \n",
      "\n",
      "[964 rows x 9 columns]\n"
     ]
    }
   ],
   "source": [
    "# Q5: Which country has the highest overall FIFA World Cup goals?\n",
    "fifa_df = df[df['tournament'] == 'FIFA World Cup']\n",
    "print (fifa_df)"
   ]
  },
  {
   "cell_type": "code",
   "execution_count": 10,
   "id": "fbf7ffe5-2e9b-4fdb-8eb4-1399e6f5b467",
   "metadata": {},
   "outputs": [
    {
     "name": "stdout",
     "output_type": "stream",
     "text": [
      "Country with the highest overall FIFA World Cup goals: Brazil\n",
      "Highest overall FIFA World Cup goals: 237.0\n"
     ]
    }
   ],
   "source": [
    "total_goals_by_country = (fifa_df.groupby('home_team')['home_score'].sum() + fifa_df.groupby('away_team')['away_score'].sum())\n",
    "country_with_highest_goals = total_goals_by_country.idxmax()\n",
    "highest_goals = total_goals_by_country.max()\n",
    "print(\"Country with the highest overall FIFA World Cup goals:\", country_with_highest_goals)\n",
    "print(\"Highest overall FIFA World Cup goals:\", highest_goals)"
   ]
  },
  {
   "cell_type": "code",
   "execution_count": null,
   "id": "ceb42108-6d68-42e3-a02e-f91f35cd87a3",
   "metadata": {},
   "outputs": [],
   "source": []
  }
 ],
 "metadata": {
  "kernelspec": {
   "display_name": "Python 3 (ipykernel)",
   "language": "python",
   "name": "python3"
  },
  "language_info": {
   "codemirror_mode": {
    "name": "ipython",
    "version": 3
   },
   "file_extension": ".py",
   "mimetype": "text/x-python",
   "name": "python",
   "nbconvert_exporter": "python",
   "pygments_lexer": "ipython3",
   "version": "3.11.5"
  }
 },
 "nbformat": 4,
 "nbformat_minor": 5
}
